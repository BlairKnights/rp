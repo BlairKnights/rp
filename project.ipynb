{
 "cells": [
  {
   "cell_type": "code",
   "execution_count": 32,
   "id": "0a283ff9-8a3b-44a0-88ca-c43bf863941a",
   "metadata": {},
   "outputs": [],
   "source": [
    "import numpy as np\n",
    "import pandas as pd"
   ]
  },
  {
   "cell_type": "code",
   "execution_count": 33,
   "id": "c04a05ad-7e6f-44fe-a6c5-8c747a7a057a",
   "metadata": {},
   "outputs": [],
   "source": [
    "df = pd.read_csv('ai_impact.csv')"
   ]
  },
  {
   "cell_type": "code",
   "execution_count": 34,
   "id": "cd1987c6-80d8-4ee5-90a9-a78a34dfa185",
   "metadata": {},
   "outputs": [
    {
     "name": "stdout",
     "output_type": "stream",
     "text": [
      "<class 'pandas.core.frame.DataFrame'>\n",
      "RangeIndex: 4706 entries, 0 to 4705\n",
      "Data columns (total 6 columns):\n",
      " #   Column             Non-Null Count  Dtype  \n",
      "---  ------             --------------  -----  \n",
      " 0   Job titles         4706 non-null   object \n",
      " 1   AI Impact          4706 non-null   object \n",
      " 2   Tasks              4706 non-null   int64  \n",
      " 3   AI models          4706 non-null   int64  \n",
      " 4   AI_Workload_Ratio  4706 non-null   float64\n",
      " 5   Domain             4706 non-null   object \n",
      "dtypes: float64(1), int64(2), object(3)\n",
      "memory usage: 220.7+ KB\n"
     ]
    }
   ],
   "source": [
    "df.info()"
   ]
  },
  {
   "cell_type": "code",
   "execution_count": 35,
   "id": "f41e3271-f0bc-4ad6-9d4d-19e1418990de",
   "metadata": {},
   "outputs": [],
   "source": [
    "df['AI Impact'] = df['AI Impact'].str.rstrip('%').astype(float)"
   ]
  },
  {
   "cell_type": "code",
   "execution_count": 36,
   "id": "0e746ad8-1054-4fae-be0f-dc9605ac70d2",
   "metadata": {},
   "outputs": [],
   "source": [
    "result = df.loc[df.groupby('Job titiles')['AI Impact'].idxmax()]"
   ]
  },
  {
   "cell_type": "code",
   "execution_count": 39,
   "id": "7aa49142-4420-4e43-9eb4-8dc8ae217b52",
   "metadata": {
    "scrolled": true
   },
   "outputs": [
    {
     "name": "stdout",
     "output_type": "stream",
     "text": [
      "                       Job titles  AI Impact  Tasks  AI models\n",
      "0          Communications Manager       98.0    365       2546\n",
      "1                  Data Collector       95.0    299       2148\n",
      "2                      Data Entry       95.0    325       2278\n",
      "3                      Mail Clerk       95.0    193       1366\n",
      "4              Compliance Officer       92.0    194       1369\n",
      "5   Chief Executive Officer (CEO)       91.0    153       1135\n",
      "6                       Therapist       90.0    114        983\n",
      "7          Chief Strategy Officer       90.0    184       1284\n",
      "8                           Admin       90.0    253       2014\n",
      "9                   General Clerk       90.0    242       1903\n",
      "10                   Mail Handler       90.0    188       1350\n",
      "11                     Data Clerk       90.0    317       2258\n",
      "12               Data Entry Clerk       90.0    328       2305\n",
      "13            Data Entry Operator       90.0    329       2311\n",
      "14          Data Entry Specialist       90.0    334       2358\n",
      "15       Medical Transcriptionist       90.0    189       1265\n",
      "16                 Street Sweeper       90.0      3         82\n",
      "17                   Supply Clerk       90.0    115        901\n",
      "18               Warehouse Worker       90.0     68        607\n",
      "19           Web Search Evaluator       90.0    243       1599\n",
      "20            Development Manager       89.0    217       1558\n",
      "21                Delivery Driver       88.0     20        309\n",
      "22         Chief Security Officer       88.0    142       1116\n",
      "23                     File Clerk       88.0    228       1797\n",
      "24                Mail Processing       88.0    189       1336\n",
      "25         Director Of Operations       87.0    198       1397\n",
      "26    Direct Support Professional       86.0    117       1018\n",
      "27   Chief Communications Officer       85.0    284       2118\n",
      "28           Administrative Clerk       85.0    270       2070\n",
      "29            Executive Assistant       85.0    276       2112\n"
     ]
    }
   ],
   "source": [
    "print(result[['Job titles','AI Impact','Tasks','AI models']].head(30))"
   ]
  },
  {
   "cell_type": "code",
   "execution_count": null,
   "id": "873cd97e-c226-4b57-843d-8b12343218ac",
   "metadata": {},
   "outputs": [],
   "source": []
  }
 ],
 "metadata": {
  "kernelspec": {
   "display_name": "Python 3 (ipykernel)",
   "language": "python",
   "name": "python3"
  },
  "language_info": {
   "codemirror_mode": {
    "name": "ipython",
    "version": 3
   },
   "file_extension": ".py",
   "mimetype": "text/x-python",
   "name": "python",
   "nbconvert_exporter": "python",
   "pygments_lexer": "ipython3",
   "version": "3.10.13"
  }
 },
 "nbformat": 4,
 "nbformat_minor": 5
}
